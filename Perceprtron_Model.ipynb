{
  "nbformat": 4,
  "nbformat_minor": 0,
  "metadata": {
    "colab": {
      "provenance": [],
      "mount_file_id": "1pXU4akeY9Sqn0ZH4hdAVf1d9iZ9MXRB_",
      "authorship_tag": "ABX9TyMWK3l8ZLYwBSJhzld8b++t",
      "include_colab_link": true
    },
    "kernelspec": {
      "name": "python3",
      "display_name": "Python 3"
    },
    "language_info": {
      "name": "python"
    }
  },
  "cells": [
    {
      "cell_type": "markdown",
      "metadata": {
        "id": "view-in-github",
        "colab_type": "text"
      },
      "source": [
        "<a href=\"https://colab.research.google.com/github/lakshmanlucky6/ML_Projects/blob/main/Perceprtron_Model.ipynb\" target=\"_parent\"><img src=\"https://colab.research.google.com/assets/colab-badge.svg\" alt=\"Open In Colab\"/></a>"
      ]
    },
    {
      "cell_type": "code",
      "execution_count": null,
      "metadata": {
        "colab": {
          "base_uri": "https://localhost:8080/"
        },
        "id": "nFnTDBBBgndX",
        "outputId": "0bd0913c-81e6-4bf6-f0e3-6a28fd540f98"
      },
      "outputs": [
        {
          "output_type": "stream",
          "name": "stdout",
          "text": [
            "Enter the w1, w2, b values \n",
            "0.7 0.3 -0.1\n",
            "Updated Weights:\n",
            "w1: 0.4, w2: 0.19999999999999998, b: -0.5\n",
            "Input: (0, 0)  Output: 0\n",
            "Input: (0, 1)  Output: 0\n",
            "Input: (1, 0)  Output: 0\n",
            "Input: (1, 1)  Output: 1\n"
          ]
        }
      ],
      "source": [
        "def activate(x):\n",
        "    return 1 if x > 0 else 0\n",
        "print(\"Enter the w1, w2, b values \")\n",
        "w1,w2,b=map(float,input().split())\n",
        "def train_perceptron(inputs, desired_outputs, learning_rate, epochs):\n",
        "    global w1, w2, b\n",
        "    for epoch in range(epochs):\n",
        "        total_error = 0\n",
        "        for i in range(len(inputs)):\n",
        "            A, B = inputs[i]\n",
        "            target_output = desired_outputs[i]\n",
        "            output = activate(w1 * A + w2 * B + b)\n",
        "            error = target_output - output\n",
        "            w1 += learning_rate * error * A\n",
        "            w2 += learning_rate * error * B\n",
        "            b += learning_rate * error\n",
        "            total_error += abs(error)\n",
        "        if total_error == 0:\n",
        "            break\n",
        "\n",
        "    print(\"Updated Weights:\")\n",
        "    print(f\"w1: {w1}, w2: {w2}, b: {b}\")\n",
        "\n",
        "inputs = [(0, 0), (0, 1), (1, 0), (1, 1)]\n",
        "desired_outputs = [0, 0, 0, 1]\n",
        "learning_rate = 0.1\n",
        "epochs = 100\n",
        "\n",
        "train_perceptron(inputs, desired_outputs, learning_rate, epochs)\n",
        "\n",
        "for i in range(len(inputs)):\n",
        "    A, B = inputs[i]\n",
        "    output = activate(w1 * A + w2 * B + b)\n",
        "    print(f\"Input: ({A}, {B})  Output: {output}\")\n"
      ]
    },
    {
      "cell_type": "code",
      "source": [
        "def activate(x):\n",
        "    return 1 if x > 0 else 0\n",
        "print(\"Enter the w1, w2, b values \")\n",
        "w1,w2,b=map(float,input().split())\n",
        "def train_perceptron(inputs, desired_outputs, learning_rate, epochs):\n",
        "    global w1, w2, b\n",
        "    for epoch in range(epochs):\n",
        "        total_error = 0\n",
        "        for i in range(len(inputs)):\n",
        "            A, B = inputs[i]\n",
        "            target_output = desired_outputs[i]\n",
        "            output = activate(w1 * A + w2 * B + b)\n",
        "            error = target_output - output\n",
        "            w1 += learning_rate * error * A\n",
        "            w2 += learning_rate * error * B\n",
        "            b += learning_rate * error\n",
        "            total_error += abs(error)\n",
        "        if total_error == 0:\n",
        "            break\n",
        "\n",
        "    print(\"Updated Weights:\")\n",
        "    print(f\"w1: {w1}, w2: {w2}, b: {b}\")\n",
        "\n",
        "\n",
        "# OR gate inputs and desired outputs\n",
        "inputs_or = [(0, 0), (0, 1), (1, 0), (1, 1)]\n",
        "desired_outputs_or = [0, 1, 1, 1]  # Updated for OR gate\n",
        "\n",
        "learning_rate = 0.1\n",
        "epochs = 100\n",
        "\n",
        "train_perceptron(inputs_or, desired_outputs_or, learning_rate, epochs)\n",
        "\n",
        "# Testing OR gate\n",
        "print(\"\\nTesting OR gate:\")\n",
        "for i in range(len(inputs_or)):\n",
        "    A, B = inputs_or[i]\n",
        "    output = activate(w1 * A + w2 * B + b)\n",
        "    print(f\"Input: ({A}, {B})  Output: {output}\")\n"
      ],
      "metadata": {
        "colab": {
          "base_uri": "https://localhost:8080/"
        },
        "id": "kMN_ECvllFOC",
        "outputId": "4c595818-1915-43e0-e69b-a73607666129"
      },
      "execution_count": null,
      "outputs": [
        {
          "output_type": "stream",
          "name": "stdout",
          "text": [
            "Enter the w1, w2, b values \n",
            "0.5 0.5 -0.5\n",
            "Updated Weights:\n",
            "w1: 0.5, w2: 0.6, b: -0.4\n",
            "\n",
            "Testing OR gate:\n",
            "Input: (0, 0)  Output: 0\n",
            "Input: (0, 1)  Output: 1\n",
            "Input: (1, 0)  Output: 1\n",
            "Input: (1, 1)  Output: 1\n"
          ]
        }
      ]
    }
  ]
}